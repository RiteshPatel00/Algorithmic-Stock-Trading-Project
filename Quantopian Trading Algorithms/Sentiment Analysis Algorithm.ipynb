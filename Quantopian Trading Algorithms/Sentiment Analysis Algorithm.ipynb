{
 "cells": [
  {
   "cell_type": "markdown",
   "metadata": {},
   "source": [
    "# Sentiment analysis \n",
    "is the interpretation and classification of emotions within text data using text analysis techniques. When it comes to the financial markets, sentiment analysis is used to figure out the people in the market's sentiment or attitude towards a particular security. This type of data is usually paid for but there are free sets of data like this one from `Sentdex`"
   ]
  },
  {
   "cell_type": "code",
   "execution_count": null,
   "metadata": {},
   "outputs": [],
   "source": [
    "from quantopian.algorithm import attach_pipeline, pipeline_output\n",
    "from quantopian.pipeline import Pipeline\n",
    "from quantopian.pipeline.factors import AverageDollarVolume\n",
    "from quantopian.pipeline.data.sentdex import sentiment_free\n",
    "\n",
    "def initialize(context):\n",
    "    \n",
    "    schedule_function(my_rebalance,\n",
    "                      date_rules.every_day())\n",
    "    \n",
    "    \n",
    "    attach_pipeline(make_pipeline(),'pipeline')\n",
    "    \n",
    "    \n",
    "def make_pipeline():\n",
    "    \n",
    "    dollar_volume = AverageDollarVolume(window_length=20)\n",
    "    is_liquid = dollar_volume.top(1000)\n",
    "    \n",
    "    #impact = sentiment_free\n",
    "    sentiment = sentiment_free.sentiment_signal.latest\n",
    "    \n",
    "    return Pipeline(columns={\n",
    "                    'sentiment':sentiment},\n",
    "                    screen=is_liquid)\n",
    "\n",
    "\n",
    "def before_trading_start(context,data):\n",
    "    port = pipeline_output('pipeline')\n",
    "    \n",
    "    context.longs = port[port['sentiment'] > 0].index.tolist()\n",
    "    \n",
    "    context.shorts = port[port['sentiment'] < 0].index.tolist()\n",
    "    \n",
    "    context.long_weight, context.short_weight = my_compute_weights(context)\n",
    "\n",
    "    \n",
    "    \n",
    "\n",
    "def my_compute_weights(context):\n",
    "    long_weight = 0.5/len(context.longs) if len(context.longs) > 0  else 0\n",
    "    short_weight = -0.5/len(context.shorts) if len(context.shorts) < 0  else 0\n",
    "\n",
    "    return long_weight, short_weight\n",
    " \n",
    "    \n",
    "\n",
    "\n",
    "def my_rebalance(context,data):\n",
    "    \n",
    "    for security in context.portfolio.positions:\n",
    "        if security not in context.longs and security not in context.shorts and data.can_trade(security):\n",
    "            order_target_percent(security, 0)\n",
    "\n",
    "    for security in context.longs:\n",
    "        if data.can_trade(security):\n",
    "            order_target_percent(security, context.long_weight)\n",
    "\n",
    "    for security in context.shorts:\n",
    "        if data.can_trade(security):\n",
    "            order_target_percent(security, context.short_weight)"
   ]
  },
  {
   "cell_type": "markdown",
   "metadata": {},
   "source": [
    "**Looking at this back test it's clear to see that it did not perform well from the benchmark (SPY) but it also mimics the trend the benchmark takes. The biggest problem with sentiment data is that once someone gets a signal that a stock is going to go up in value or down in value, most people already short or long the security by that the time and the price already fluctuates**"
   ]
  },
  {
   "cell_type": "markdown",
   "metadata": {},
   "source": [
    "![](Images/Sentiment_Analysis.png)"
   ]
  },
  {
   "cell_type": "code",
   "execution_count": null,
   "metadata": {},
   "outputs": [],
   "source": []
  }
 ],
 "metadata": {
  "kernelspec": {
   "display_name": "Python 3",
   "language": "python",
   "name": "python3"
  },
  "language_info": {
   "codemirror_mode": {
    "name": "ipython",
    "version": 3
   },
   "file_extension": ".py",
   "mimetype": "text/x-python",
   "name": "python",
   "nbconvert_exporter": "python",
   "pygments_lexer": "ipython3",
   "version": "3.7.4"
  }
 },
 "nbformat": 4,
 "nbformat_minor": 2
}
