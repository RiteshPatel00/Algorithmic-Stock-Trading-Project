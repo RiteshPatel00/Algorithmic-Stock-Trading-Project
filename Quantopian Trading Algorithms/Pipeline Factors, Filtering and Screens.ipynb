{
 "cells": [
  {
   "cell_type": "code",
   "execution_count": 2,
   "metadata": {},
   "outputs": [],
   "source": [
    "from quantopian.pipeline import Pipeline"
   ]
  },
  {
   "cell_type": "code",
   "execution_count": 3,
   "metadata": {},
   "outputs": [],
   "source": [
    "def make_pipeline():\n",
    "    return Pipeline()"
   ]
  },
  {
   "cell_type": "code",
   "execution_count": 4,
   "metadata": {},
   "outputs": [],
   "source": [
    "#Create pipeline object\n",
    "pipe = make_pipeline()"
   ]
  },
  {
   "cell_type": "code",
   "execution_count": 5,
   "metadata": {},
   "outputs": [],
   "source": [
    "from quantopian.research import run_pipeline"
   ]
  },
  {
   "cell_type": "code",
   "execution_count": 6,
   "metadata": {},
   "outputs": [
    {
     "data": {
      "application/vnd.jupyter.widget-view+json": {
       "model_id": "",
       "version_major": 2,
       "version_minor": 0
      },
      "text/plain": []
     },
     "metadata": {},
     "output_type": "display_data"
    },
    {
     "data": {
      "text/html": [
       "<b>Pipeline Execution Time:</b> 0.83 Seconds"
      ],
      "text/plain": [
       "<IPython.core.display.HTML object>"
      ]
     },
     "metadata": {},
     "output_type": "display_data"
    }
   ],
   "source": [
    "result = run_pipeline(pipeline=pipe, start_date='2017-01-03',end_date='2017-01-03')"
   ]
  },
  {
   "cell_type": "code",
   "execution_count": 7,
   "metadata": {},
   "outputs": [
    {
     "name": "stdout",
     "output_type": "stream",
     "text": [
      "<class 'pandas.core.frame.DataFrame'>\n",
      "MultiIndex: 8356 entries, (2017-01-03 00:00:00+00:00, Equity(2 [HWM])) to (2017-01-03 00:00:00+00:00, Equity(50569 [OUSM]))\n",
      "Empty DataFrame"
     ]
    }
   ],
   "source": [
    "result.info()"
   ]
  },
  {
   "cell_type": "markdown",
   "metadata": {},
   "source": [
    "### Factors"
   ]
  },
  {
   "cell_type": "code",
   "execution_count": 8,
   "metadata": {},
   "outputs": [],
   "source": [
    "from quantopian.pipeline.data.builtin import USEquityPricing"
   ]
  },
  {
   "cell_type": "code",
   "execution_count": 9,
   "metadata": {},
   "outputs": [],
   "source": [
    "from quantopian.pipeline.factors import SimpleMovingAverage"
   ]
  },
  {
   "cell_type": "code",
   "execution_count": 10,
   "metadata": {},
   "outputs": [],
   "source": [
    "SimpleMovingAverage(inputs=[USEquityPricing.close], window_length= 30);"
   ]
  },
  {
   "cell_type": "code",
   "execution_count": 11,
   "metadata": {},
   "outputs": [],
   "source": [
    "def make_pipeline():\n",
    "    mean_close_30 = SimpleMovingAverage(inputs=[USEquityPricing.close], window_length= 30)\n",
    "    return Pipeline(columns={'30 Day Mean Close':mean_close_30})"
   ]
  },
  {
   "cell_type": "code",
   "execution_count": 12,
   "metadata": {},
   "outputs": [
    {
     "data": {
      "application/vnd.jupyter.widget-view+json": {
       "model_id": "",
       "version_major": 2,
       "version_minor": 0
      },
      "text/plain": []
     },
     "metadata": {},
     "output_type": "display_data"
    },
    {
     "data": {
      "text/html": [
       "<b>Pipeline Execution Time:</b> 15.79 Seconds"
      ],
      "text/plain": [
       "<IPython.core.display.HTML object>"
      ]
     },
     "metadata": {},
     "output_type": "display_data"
    }
   ],
   "source": [
    "results = run_pipeline(make_pipeline(),'2017-01-03','2017-01-03')"
   ]
  },
  {
   "cell_type": "code",
   "execution_count": 13,
   "metadata": {},
   "outputs": [],
   "source": [
    "def make_pipeline():\n",
    "\n",
    "    latest_close = USEquityPricing.close.latest\n",
    "    small_price = latest_close < 5    \n",
    "\n",
    "    #Use masking to save a bit of computational work\n",
    "    mean_close_30 = SimpleMovingAverage(inputs=[USEquityPricing.close], window_length= 30, mask=small_price)\n",
    "    mean_close_10 = SimpleMovingAverage(inputs=[USEquityPricing.close], window_length= 10, mask=small_price)\n",
    "\n",
    "    \n",
    "    percent_diff = (mean_close_10 - mean_close_30)/mean_close_30\n",
    "    \n",
    "    #Filtering out negative percent differences\n",
    "    percent_filter = percent_diff > 0\n",
    "    \n",
    "    #Combine filters\n",
    "    final_filter = percent_filter & small_price\n",
    "    \n",
    "    return Pipeline(columns={'30 Day Mean Close':mean_close_30 , \n",
    "                             'Percent Difference':percent_diff, \n",
    "                             'Latest Close':latest_close, \n",
    "                             'Percent Filter':percent_filter},\n",
    "                             screen=final_filter)"
   ]
  },
  {
   "cell_type": "code",
   "execution_count": 14,
   "metadata": {},
   "outputs": [
    {
     "data": {
      "application/vnd.jupyter.widget-view+json": {
       "model_id": "",
       "version_major": 2,
       "version_minor": 0
      },
      "text/plain": []
     },
     "metadata": {},
     "output_type": "display_data"
    },
    {
     "data": {
      "text/html": [
       "<b>Pipeline Execution Time:</b> 0.42 Seconds"
      ],
      "text/plain": [
       "<IPython.core.display.HTML object>"
      ]
     },
     "metadata": {},
     "output_type": "display_data"
    }
   ],
   "source": [
    "results = run_pipeline(make_pipeline(),'2017-01-03','2017-01-03')\n"
   ]
  },
  {
   "cell_type": "code",
   "execution_count": 15,
   "metadata": {},
   "outputs": [],
   "source": [
    "from quantopian.pipeline.data import morningstar\n",
    "from quantopian.pipeline.classifiers.morningstar import Sector"
   ]
  },
  {
   "cell_type": "markdown",
   "metadata": {},
   "source": [
    "### Classifiers"
   ]
  },
  {
   "cell_type": "code",
   "execution_count": 16,
   "metadata": {},
   "outputs": [],
   "source": [
    "morningstar_sector = Sector()"
   ]
  },
  {
   "cell_type": "code",
   "execution_count": 17,
   "metadata": {},
   "outputs": [],
   "source": [
    "exchange = morningstar.share_class_reference.exchange_id.latest"
   ]
  },
  {
   "cell_type": "code",
   "execution_count": 18,
   "metadata": {},
   "outputs": [],
   "source": [
    "nyse_filter = exchange.eq('NYS')"
   ]
  },
  {
   "cell_type": "code",
   "execution_count": 19,
   "metadata": {},
   "outputs": [],
   "source": [
    "def make_pipeline():\n",
    "\n",
    "    latest_close = USEquityPricing.close.latest\n",
    "    small_price = latest_close < 5   \n",
    "    \n",
    "    #Classifier\n",
    "    nyse_filter = exchange.eq('NYS')\n",
    "\n",
    "    #Use masking to save a bit of computational work\n",
    "    mean_close_30 = SimpleMovingAverage(inputs=[USEquityPricing.close], window_length= 30, mask=small_price)\n",
    "    mean_close_10 = SimpleMovingAverage(inputs=[USEquityPricing.close], window_length= 10, mask=small_price)\n",
    "\n",
    "    \n",
    "    percent_diff = (mean_close_10 - mean_close_30)/mean_close_30\n",
    "    \n",
    "    #Filtering out negative percent differences\n",
    "    percent_filter = percent_diff > 0\n",
    "    \n",
    "    #Combine filters\n",
    "    final_filter = percent_filter & nyse_filter\n",
    "    \n",
    "    return Pipeline(columns={'30 Day Mean Close':mean_close_30 , \n",
    "                             'Percent Difference':percent_diff, \n",
    "                             'Latest Close':latest_close, \n",
    "                             'Percent Filter':percent_filter},\n",
    "                             screen=final_filter)"
   ]
  },
  {
   "cell_type": "code",
   "execution_count": 20,
   "metadata": {},
   "outputs": [
    {
     "data": {
      "application/vnd.jupyter.widget-view+json": {
       "model_id": "",
       "version_major": 2,
       "version_minor": 0
      },
      "text/plain": []
     },
     "metadata": {},
     "output_type": "display_data"
    },
    {
     "data": {
      "text/html": [
       "<b>Pipeline Execution Time:</b> 2.37 Seconds"
      ],
      "text/plain": [
       "<IPython.core.display.HTML object>"
      ]
     },
     "metadata": {},
     "output_type": "display_data"
    }
   ],
   "source": [
    "results = run_pipeline(make_pipeline(),'2017-01-03','2017-01-03')"
   ]
  },
  {
   "cell_type": "code",
   "execution_count": 21,
   "metadata": {},
   "outputs": [
    {
     "name": "stdout",
     "output_type": "stream",
     "text": [
      "<class 'pandas.core.frame.DataFrame'>\n",
      "MultiIndex: 66 entries, (2017-01-03 00:00:00+00:00, Equity(2586 [EQS])) to (2017-01-03 00:00:00+00:00, Equity(49678 [OSG]))\n",
      "Data columns (total 4 columns):\n",
      "30 Day Mean Close     66 non-null float64\n",
      "Latest Close          66 non-null float64\n",
      "Percent Difference    66 non-null float64\n",
      "Percent Filter        66 non-null bool\n",
      "dtypes: bool(1), float64(3)\n",
      "memory usage: 2.1+ KB\n"
     ]
    }
   ],
   "source": [
    "results.info()"
   ]
  },
  {
   "cell_type": "code",
   "execution_count": null,
   "metadata": {},
   "outputs": [],
   "source": []
  }
 ],
 "metadata": {
  "kernelspec": {
   "display_name": "Python 3.5",
   "language": "python",
   "name": "py35"
  },
  "language_info": {
   "codemirror_mode": {
    "name": "ipython",
    "version": 3
   },
   "file_extension": ".py",
   "mimetype": "text/x-python",
   "name": "python",
   "nbconvert_exporter": "python",
   "pygments_lexer": "ipython3",
   "version": "3.5.9"
  }
 },
 "nbformat": 4,
 "nbformat_minor": 2
}
