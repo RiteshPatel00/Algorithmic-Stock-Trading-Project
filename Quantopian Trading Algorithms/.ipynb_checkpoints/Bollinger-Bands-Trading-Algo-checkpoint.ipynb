{
 "cells": [
  {
   "cell_type": "markdown",
   "metadata": {},
   "source": [
    "**Bollinger Bands Trading Algorithm used on Johnson and Johnson stock**"
   ]
  },
  {
   "cell_type": "code",
   "execution_count": 1,
   "metadata": {},
   "outputs": [],
   "source": [
    "import numpy as np\n",
    "\n",
    "\n",
    "def initialize(context):\n",
    "    \n",
    "    schedule_function(check_bands,\n",
    "                     date_rules.every_day(),\n",
    "                     )\n",
    "    \n",
    "    context.jj = sid(4151)\n",
    "    \n",
    "        \n",
    "        \n",
    "def check_bands(context, data):\n",
    "    \n",
    "    jj = context.jj\n",
    "    \n",
    "    current_price = data.current(jj, 'price')\n",
    "    \n",
    "    #Historical data\n",
    "    prices = data.history(jj, 'price', 20, '1d')\n",
    "    \n",
    "    \n",
    "    avg = prices.mean()\n",
    "    std = prices.std()\n",
    "    lower_band = avg - 2 * std\n",
    "    upper_band = avg + 2 * std\n",
    "    \n",
    "    \n",
    "    if current_price >= upper_band:\n",
    "        order_target_percent(jj, -1.0)\n",
    "        \n",
    "    elif current_price <= lower_band:\n",
    "        order_target_percent(jj, 1.0)\n",
    "        \n",
    "        \n",
    "    else:\n",
    "        pass\n",
    "        \n",
    "    \n",
    "    record(upper=upper_band,\n",
    "           lower=lower_band,\n",
    "           price = current_price)"
   ]
  },
  {
   "cell_type": "markdown",
   "metadata": {},
   "source": [
    "Below is the backtest resut"
   ]
  },
  {
   "cell_type": "code",
   "execution_count": null,
   "metadata": {},
   "outputs": [],
   "source": []
  }
 ],
 "metadata": {
  "kernelspec": {
   "display_name": "Python 3",
   "language": "python",
   "name": "python3"
  },
  "language_info": {
   "codemirror_mode": {
    "name": "ipython",
    "version": 3
   },
   "file_extension": ".py",
   "mimetype": "text/x-python",
   "name": "python",
   "nbconvert_exporter": "python",
   "pygments_lexer": "ipython3",
   "version": "3.7.4"
  }
 },
 "nbformat": 4,
 "nbformat_minor": 2
}
